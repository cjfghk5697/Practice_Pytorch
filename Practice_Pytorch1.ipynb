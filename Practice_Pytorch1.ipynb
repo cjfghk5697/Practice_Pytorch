{
  "nbformat": 4,
  "nbformat_minor": 0,
  "metadata": {
    "colab": {
      "name": "Untitled29.ipynb",
      "provenance": [],
      "authorship_tag": "ABX9TyOaQmyxZ81gfzcEytVHHaqb",
      "include_colab_link": true
    },
    "kernelspec": {
      "name": "python3",
      "display_name": "Python 3"
    },
    "language_info": {
      "name": "python"
    }
  },
  "cells": [
    {
      "cell_type": "markdown",
      "metadata": {
        "id": "view-in-github",
        "colab_type": "text"
      },
      "source": [
        "<a href=\"https://colab.research.google.com/github/cjfghk5697/Practice_Pytorch/blob/main/Practice_Pytorch1.ipynb\" target=\"_parent\"><img src=\"https://colab.research.google.com/assets/colab-badge.svg\" alt=\"Open In Colab\"/></a>"
      ]
    },
    {
      "cell_type": "code",
      "metadata": {
        "colab": {
          "base_uri": "https://localhost:8080/"
        },
        "id": "eiMtOkAEcqqU",
        "outputId": "b799f6cc-e754-44a4-95ef-257427c07b69"
      },
      "source": [
        "pip install torch"
      ],
      "execution_count": 2,
      "outputs": [
        {
          "output_type": "stream",
          "text": [
            "Requirement already satisfied: torch in /usr/local/lib/python3.7/dist-packages (1.9.0+cu102)\n",
            "Requirement already satisfied: typing-extensions in /usr/local/lib/python3.7/dist-packages (from torch) (3.7.4.3)\n"
          ],
          "name": "stdout"
        }
      ]
    },
    {
      "cell_type": "code",
      "metadata": {
        "id": "ssUq8EgAb83Q"
      },
      "source": [
        "import torch\n",
        "from torch import nn\n",
        "from torch.utils.data import DataLoader\n",
        "from torchvision import datasets\n",
        "from torchvision.transforms import ToTensor, Lambda, Compose\n",
        "import matplotlib.pyplot as plt"
      ],
      "execution_count": 1,
      "outputs": []
    },
    {
      "cell_type": "code",
      "metadata": {
        "id": "KPBQswWcc1pX"
      },
      "source": [
        "#dataset 클래스로 만듦 train dataset\n",
        "\n",
        "# Download training data from open datasets.\n",
        "training_data = datasets.FashionMNIST(\n",
        "    root=\"data\",\n",
        "    train=True, #train=true는 FashionMNIST라는 곳에서 train dataset을 가져왔다는 뜻.\n",
        "    download=True, #만약에 download를 안했으면 download해라\n",
        "    transform=ToTensor(),\n",
        ")\n",
        "\n",
        "# Download test data from open datasets.\n",
        "test_data = datasets.FashionMNIST(\n",
        "    root=\"data\",\n",
        "    train=False, #train=False로 test 데이터 가져옴\n",
        "    download=True,\n",
        "    transform=ToTensor(),\n",
        ")\n"
      ],
      "execution_count": 4,
      "outputs": []
    },
    {
      "cell_type": "code",
      "metadata": {
        "colab": {
          "base_uri": "https://localhost:8080/"
        },
        "id": "is1vQjoFdkDf",
        "outputId": "25032c4d-f8de-40dd-b7a8-086fd3b9ae71"
      },
      "source": [
        "batch_size=64\n",
        "\n",
        "#create data loaders.\n",
        "train_dataloader= DataLoader(training_data, batch_size=batch_size)\n",
        "test_dataloader=DataLoader(test_data, batch_size=batch_size)\n",
        "\n",
        "for X, y in test_dataloader:\n",
        "  print(\"Shape of X[N, C, H, W]:\",X.shape)\n",
        "  print(\"Shape of y: \", y.shape, y.dtype)\n",
        "  break"
      ],
      "execution_count": 7,
      "outputs": [
        {
          "output_type": "stream",
          "text": [
            "Shape of X[N, C, H, W]: torch.Size([64, 1, 28, 28])\n",
            "Shape of y:  torch.Size([64]) torch.int64\n"
          ],
          "name": "stdout"
        }
      ]
    },
    {
      "cell_type": "markdown",
      "metadata": {
        "id": "oQ0_wyy1fTxP"
      },
      "source": [
        "training데이터는 데이터 자체만 있음. batch_size는 몇개 할 건지(미니배치학습) DATALOADER는 데이터 환경 조성\n",
        "\n",
        "N C H W는 넘버 체널 하잇트 웨이트\n",
        "채널 수, 어떤 채널, 세로, 가로 크기\n",
        "\n",
        "채널은 1이면 그레이. 3이면 RGB\n",
        "X는 64장이 있다. 64*28*28사이즈라고 보면된다.\n",
        "y는 데이터들에 대한 레이블이다."
      ]
    },
    {
      "cell_type": "code",
      "metadata": {
        "colab": {
          "base_uri": "https://localhost:8080/"
        },
        "id": "RMAsVFbDg6Ol",
        "outputId": "199f10c4-6e40-4a76-ba92-e105f2307e69"
      },
      "source": [
        "# Get cpu or gpu device for training.\n",
        "device = \"cuda\" if torch.cuda.is_available() else \"cpu\"\n",
        "print(\"Using {} device\".format(device))\n",
        "\n",
        "# Define model\n",
        "class NeuralNetwork(nn.Module):\n",
        "    def __init__(self):\n",
        "        super(NeuralNetwork, self).__init__() #부모속성 nn.module을 초기화 \n",
        "        self.flatten = nn.Flatten() \n",
        "        self.linear_relu_stack = nn.Sequential( #시퀀서는 순서대로 라는 뜻\n",
        "            nn.Linear(28*28, 512),\n",
        "            nn.ReLU(),\n",
        "            nn.Linear(512, 512),\n",
        "            nn.ReLU(),\n",
        "            nn.Linear(512, 10), #10개의 클래스가 저장됨\n",
        "            nn.ReLU()\n",
        "        )\n",
        "\n",
        "    def forward(self, x): #사용\n",
        "        x = self.flatten(x) #nn.Module에 이미 정의 되어있음. 재정의 함.\n",
        "        \n",
        "        logits = self.linear_relu_stack(x) #x를 계싼\n",
        "        return logits #prediction한 \n",
        "\n",
        "model = NeuralNetwork().to(device) #cpu로 보낸 거임. cpu로 올리겠다.\n",
        "print(model)"
      ],
      "execution_count": 8,
      "outputs": [
        {
          "output_type": "stream",
          "text": [
            "Using cpu device\n",
            "NeuralNetwork(\n",
            "  (flatten): Flatten(start_dim=1, end_dim=-1)\n",
            "  (linear_relu_stack): Sequential(\n",
            "    (0): Linear(in_features=784, out_features=512, bias=True)\n",
            "    (1): ReLU()\n",
            "    (2): Linear(in_features=512, out_features=512, bias=True)\n",
            "    (3): ReLU()\n",
            "    (4): Linear(in_features=512, out_features=10, bias=True)\n",
            "    (5): ReLU()\n",
            "  )\n",
            ")\n"
          ],
          "name": "stdout"
        }
      ]
    },
    {
      "cell_type": "markdown",
      "metadata": {
        "id": "RUIQWrevg_cZ"
      },
      "source": [
        "cuda가 사용이 가능하면 cuda를 쓰겠다. using cpu가 print됨 즉 cpu를 씀.\n",
        "\n",
        "nn.Module"
      ]
    },
    {
      "cell_type": "code",
      "metadata": {
        "id": "OM62nhJfjJy_"
      },
      "source": [
        "loss_fn = nn.CrossEntropyLoss() #척도\n",
        "optimizer = torch.optim.SGD(model.parameters(), lr=1e-3) #최적화된 것. 기울기로 보고 찾아감 loss가 작아지는 기울기\n"
      ],
      "execution_count": 14,
      "outputs": []
    },
    {
      "cell_type": "code",
      "metadata": {
        "id": "I4jEBdkmj8ra"
      },
      "source": [
        "def train(dataloader, model, loss_fn, optimizer):\n",
        "    size = len(dataloader.dataset)\n",
        "    for batch, (X, y) in enumerate(dataloader): #batch도 가져옴\n",
        "        X, y = X.to(device), y.to(device) #cpu에 보냄\n",
        "\n",
        "        # Compute prediction error\n",
        "        pred = model(X) #forward 함수가 실행됨. 이게 nn.Module에 자동으로 구현 되어있음. logits이 prediction한 값\n",
        "        loss = loss_fn(pred, y) #얼마나 정확한지 방향 정하기\n",
        "\n",
        "\n",
        "        # Backpropagation\n",
        "        optimizer.zero_grad() #gradient를 초기화해라. 0으로 만들어라 어떻게 등산했는지 까먹어라 길을 다시 정하겠다.\n",
        "        loss.backward() #그 방향으로 내려가기. 업데이트 함. optimizer는 SGD씀\n",
        "        optimizer.step() #얼마나 내려왔는지 알려줌 어떻게 내려왔는지도 알려줌\n",
        "\n",
        "        if batch % 100 == 0: #100번에 한번씩 PRINT해라\n",
        "            loss, current = loss.item(), batch * len(X)\n",
        "            print(f\"loss: {loss:>7f}  [{current:>5d}/{size:>5d}]\")"
      ],
      "execution_count": 15,
      "outputs": []
    },
    {
      "cell_type": "code",
      "metadata": {
        "id": "fPxTcVbcoKQr"
      },
      "source": [
        "def test(dataloader, model, loss_fn): #여기서는 학습 x 테스트만\n",
        "    size = len(dataloader.dataset)\n",
        "    num_batches = len(dataloader)\n",
        "    model.eval()\n",
        "    test_loss, correct = 0, 0\n",
        "    with torch.no_grad(): #우리는 학습하지 않겠다?\n",
        "        for X, y in dataloader:\n",
        "            X, y = X.to(device), y.to(device)\n",
        "            pred = model(X)\n",
        "            test_loss += loss_fn(pred, y).item()\n",
        "            correct += (pred.argmax(1) == y).type(torch.float).sum().item() #prad.argmax(1)은 첫번째로 가장큰 예측값의 index 줌. index가 y랑 같으면 true 줌. 그럼 type을 float으로 바꿈. 다 같으면 sum에서 30이 나올것임 coorrect는 계속 더해서 맞은 값을 보여줌\n",
        "    test_loss /= num_batches\n",
        "    correct /= size #맞을 확률\n",
        "    print(f\"Test Error: \\n Accuracy: {(100*correct):>0.1f}%, Avg loss: {test_loss:>8f} \\n\")"
      ],
      "execution_count": 16,
      "outputs": []
    },
    {
      "cell_type": "code",
      "metadata": {
        "colab": {
          "base_uri": "https://localhost:8080/"
        },
        "id": "NuSmThdQpVQD",
        "outputId": "6f124dfa-07fc-4165-ee47-f36db688d39a"
      },
      "source": [
        "epochs = 5\n",
        "for t in range(epochs):\n",
        "    print(f\"Epoch {t+1}\\n-------------------------------\")\n",
        "    train(train_dataloader, model, loss_fn, optimizer)\n",
        "    test(test_dataloader, model, loss_fn)\n",
        "print(\"Done!\")"
      ],
      "execution_count": 17,
      "outputs": [
        {
          "output_type": "stream",
          "text": [
            "Epoch 1\n",
            "-------------------------------\n",
            "loss: 2.296002  [    0/60000]\n",
            "loss: 2.287408  [ 6400/60000]\n",
            "loss: 2.282100  [12800/60000]\n",
            "loss: 2.282075  [19200/60000]\n",
            "loss: 2.245959  [25600/60000]\n",
            "loss: 2.256192  [32000/60000]\n",
            "loss: 2.244469  [38400/60000]\n",
            "loss: 2.233786  [44800/60000]\n",
            "loss: 2.236921  [51200/60000]\n",
            "loss: 2.186704  [57600/60000]\n",
            "Test Error: \n",
            " Accuracy: 44.5%, Avg loss: 2.203479 \n",
            "\n",
            "Epoch 2\n",
            "-------------------------------\n",
            "loss: 2.227092  [    0/60000]\n",
            "loss: 2.202825  [ 6400/60000]\n",
            "loss: 2.190003  [12800/60000]\n",
            "loss: 2.182369  [19200/60000]\n",
            "loss: 2.102553  [25600/60000]\n",
            "loss: 2.143195  [32000/60000]\n",
            "loss: 2.119778  [38400/60000]\n",
            "loss: 2.111968  [44800/60000]\n",
            "loss: 2.124761  [51200/60000]\n",
            "loss: 2.003280  [57600/60000]\n",
            "Test Error: \n",
            " Accuracy: 46.4%, Avg loss: 2.048743 \n",
            "\n",
            "Epoch 3\n",
            "-------------------------------\n",
            "loss: 2.121543  [    0/60000]\n",
            "loss: 2.056239  [ 6400/60000]\n",
            "loss: 2.036685  [12800/60000]\n",
            "loss: 2.013618  [19200/60000]\n",
            "loss: 1.855148  [25600/60000]\n",
            "loss: 1.971614  [32000/60000]\n",
            "loss: 1.911888  [38400/60000]\n",
            "loss: 1.927774  [44800/60000]\n",
            "loss: 1.966214  [51200/60000]\n",
            "loss: 1.738919  [57600/60000]\n",
            "Test Error: \n",
            " Accuracy: 50.4%, Avg loss: 1.829680 \n",
            "\n",
            "Epoch 4\n",
            "-------------------------------\n",
            "loss: 1.978422  [    0/60000]\n",
            "loss: 1.858115  [ 6400/60000]\n",
            "loss: 1.844957  [12800/60000]\n",
            "loss: 1.792885  [19200/60000]\n",
            "loss: 1.570334  [25600/60000]\n",
            "loss: 1.803965  [32000/60000]\n",
            "loss: 1.683033  [38400/60000]\n",
            "loss: 1.756460  [44800/60000]\n",
            "loss: 1.803513  [51200/60000]\n",
            "loss: 1.496796  [57600/60000]\n",
            "Test Error: \n",
            " Accuracy: 54.1%, Avg loss: 1.628305 \n",
            "\n",
            "Epoch 5\n",
            "-------------------------------\n",
            "loss: 1.842545  [    0/60000]\n",
            "loss: 1.683056  [ 6400/60000]\n",
            "loss: 1.682517  [12800/60000]\n",
            "loss: 1.608357  [19200/60000]\n",
            "loss: 1.348453  [25600/60000]\n",
            "loss: 1.677936  [32000/60000]\n",
            "loss: 1.512761  [38400/60000]\n",
            "loss: 1.634187  [44800/60000]\n",
            "loss: 1.669057  [51200/60000]\n",
            "loss: 1.336918  [57600/60000]\n",
            "Test Error: \n",
            " Accuracy: 55.4%, Avg loss: 1.481545 \n",
            "\n",
            "Done!\n"
          ],
          "name": "stdout"
        }
      ]
    }
  ]
}