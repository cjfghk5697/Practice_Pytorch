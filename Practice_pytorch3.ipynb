{
  "nbformat": 4,
  "nbformat_minor": 0,
  "metadata": {
    "colab": {
      "name": "Untitled32.ipynb",
      "provenance": [],
      "authorship_tag": "ABX9TyP/tifk1cchGVupaLYGtiMj",
      "include_colab_link": true
    },
    "kernelspec": {
      "name": "python3",
      "display_name": "Python 3"
    },
    "language_info": {
      "name": "python"
    }
  },
  "cells": [
    {
      "cell_type": "markdown",
      "metadata": {
        "id": "view-in-github",
        "colab_type": "text"
      },
      "source": [
        "<a href=\"https://colab.research.google.com/github/cjfghk5697/Practice_Pytorch/blob/main/Practice_pytorch3.ipynb\" target=\"_parent\"><img src=\"https://colab.research.google.com/assets/colab-badge.svg\" alt=\"Open In Colab\"/></a>"
      ]
    },
    {
      "cell_type": "code",
      "metadata": {
        "id": "AI4XZMG_H1uq"
      },
      "source": [
        "import torch\n",
        "\n",
        "x = torch.ones(5)  # input tensor 1*5\n",
        "y = torch.zeros(3)  # expected output 1*3, 정답\n",
        "w = torch.randn(5, 3, requires_grad=True) #학습해야할 파라미터 5*3\n",
        "b = torch.randn(3, requires_grad=True) #학습해야할 파라미터,is 1*3\n",
        "z = torch.matmul(x, w)+b #최종값, 뉴럴 네트워크 1*3, y랑 비교 가능, prediction한 값이 3개란 뜻. y랑 비교해서 loss 구하기\n",
        "loss = torch.nn.functional.binary_cross_entropy_with_logits(z, y) #정답과 가까우면 loss 값 작음"
      ],
      "execution_count": 4,
      "outputs": []
    },
    {
      "cell_type": "code",
      "metadata": {
        "colab": {
          "base_uri": "https://localhost:8080/"
        },
        "id": "WZMibfqqadvO",
        "outputId": "d0dc48c8-0f75-44bc-b823-7f7e4f636e47"
      },
      "source": [
        "loss.backward()\n",
        "print(w.grad)  \n",
        "print(b.grad)"
      ],
      "execution_count": 5,
      "outputs": [
        {
          "output_type": "stream",
          "text": [
            "tensor([[0.0738, 0.3278, 0.2374],\n",
            "        [0.0738, 0.3278, 0.2374],\n",
            "        [0.0738, 0.3278, 0.2374],\n",
            "        [0.0738, 0.3278, 0.2374],\n",
            "        [0.0738, 0.3278, 0.2374]])\n",
            "tensor([0.0738, 0.3278, 0.2374])\n"
          ],
          "name": "stdout"
        }
      ]
    },
    {
      "cell_type": "code",
      "metadata": {
        "colab": {
          "base_uri": "https://localhost:8080/"
        },
        "id": "SuJtrkAzav7K",
        "outputId": "5d604618-2681-4887-dd33-bb9bdeb55f2f"
      },
      "source": [
        "z = torch.matmul(x, w)+b #미분을 해야한가? \n",
        "print(z.requires_grad) #해야한다.\n",
        "\n",
        "with torch.no_grad():\n",
        "    z = torch.matmul(x, w)+b #w,b는 업데이트 안할꺼야\n",
        "print(z.requires_grad) #미분 안해도 된다."
      ],
      "execution_count": 6,
      "outputs": [
        {
          "output_type": "stream",
          "text": [
            "True\n",
            "False\n"
          ],
          "name": "stdout"
        }
      ]
    },
    {
      "cell_type": "code",
      "metadata": {
        "colab": {
          "base_uri": "https://localhost:8080/"
        },
        "id": "_17SukW7bGtG",
        "outputId": "8313927c-61c3-4b62-8ae6-33a548632d3d"
      },
      "source": [
        "z = torch.matmul(x, w)+b\n",
        "z_det = z.detach() #z_det은 미분 필요없는 함수,때내는 것\n",
        "print(z_det.requires_grad) "
      ],
      "execution_count": 8,
      "outputs": [
        {
          "output_type": "stream",
          "text": [
            "False\n"
          ],
          "name": "stdout"
        }
      ]
    }
  ]
}