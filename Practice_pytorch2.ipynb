{
  "nbformat": 4,
  "nbformat_minor": 0,
  "metadata": {
    "colab": {
      "name": "Untitled30.ipynb",
      "provenance": [],
      "authorship_tag": "ABX9TyOM0W2muMmEn2ccOjHt3E0Y",
      "include_colab_link": true
    },
    "kernelspec": {
      "name": "python3",
      "display_name": "Python 3"
    },
    "language_info": {
      "name": "python"
    }
  },
  "cells": [
    {
      "cell_type": "markdown",
      "metadata": {
        "id": "view-in-github",
        "colab_type": "text"
      },
      "source": [
        "<a href=\"https://colab.research.google.com/github/cjfghk5697/Practice_Pytorch/blob/main/Practice_pytorch2.ipynb\" target=\"_parent\"><img src=\"https://colab.research.google.com/assets/colab-badge.svg\" alt=\"Open In Colab\"/></a>"
      ]
    },
    {
      "cell_type": "code",
      "metadata": {
        "id": "kdyDzF8uuzAv"
      },
      "source": [
        "import os\n",
        "import torch\n",
        "from torch import nn\n",
        "from torch.utils.data import DataLoader\n",
        "from torchvision import datasets, transforms"
      ],
      "execution_count": null,
      "outputs": []
    },
    {
      "cell_type": "code",
      "metadata": {
        "colab": {
          "base_uri": "https://localhost:8080/"
        },
        "id": "5bY1rNMVxPic",
        "outputId": "4e15f54a-fb25-4eb6-a7ef-5447eeec1b92"
      },
      "source": [
        "device = 'cuda' if torch.cuda.is_available() else 'cpu'\n",
        "print('Using {} device'.format(device))"
      ],
      "execution_count": null,
      "outputs": [
        {
          "output_type": "stream",
          "text": [
            "Using cpu device\n"
          ],
          "name": "stdout"
        }
      ]
    },
    {
      "cell_type": "code",
      "metadata": {
        "id": "AqoT_B8NxSR3"
      },
      "source": [
        "class NeuralNetwork(nn.Module):\n",
        "    def __init__(self):\n",
        "        super(NeuralNetwork, self).__init__()\n",
        "        self.flatten = nn.Flatten()\n",
        "        self.linear_relu_stack = nn.Sequential(\n",
        "            nn.Linear(28*28, 512),\n",
        "            nn.ReLU(),\n",
        "            nn.Linear(512, 512),\n",
        "            nn.ReLU(),\n",
        "            nn.Linear(512, 10),\n",
        "            nn.ReLU()\n",
        "        )\n",
        "\n",
        "    def forward(self, x):\n",
        "        x = self.flatten(x)\n",
        "        logits = self.linear_relu_stack(x)\n",
        "        return logits"
      ],
      "execution_count": null,
      "outputs": []
    },
    {
      "cell_type": "code",
      "metadata": {
        "colab": {
          "base_uri": "https://localhost:8080/"
        },
        "id": "xyd4A2adxTyt",
        "outputId": "ddc98caa-d3ca-4992-99dd-74319940bd5d"
      },
      "source": [
        "model = NeuralNetwork().to(device)\n",
        "print(model)"
      ],
      "execution_count": null,
      "outputs": [
        {
          "output_type": "stream",
          "text": [
            "NeuralNetwork(\n",
            "  (flatten): Flatten(start_dim=1, end_dim=-1)\n",
            "  (linear_relu_stack): Sequential(\n",
            "    (0): Linear(in_features=784, out_features=512, bias=True)\n",
            "    (1): ReLU()\n",
            "    (2): Linear(in_features=512, out_features=512, bias=True)\n",
            "    (3): ReLU()\n",
            "    (4): Linear(in_features=512, out_features=10, bias=True)\n",
            "    (5): ReLU()\n",
            "  )\n",
            ")\n"
          ],
          "name": "stdout"
        }
      ]
    },
    {
      "cell_type": "code",
      "metadata": {
        "colab": {
          "base_uri": "https://localhost:8080/"
        },
        "id": "SBgMFjqxxXK7",
        "outputId": "4c000b26-9e4e-4303-b787-beb7a5e41407"
      },
      "source": [
        "X = torch.rand(1, 28, 28, device=device) #input 값\n",
        "logits = model(X)\n",
        "pred_probab = nn.Softmax(dim=1)(logits) #predict\n",
        "y_pred = pred_probab.argmax(1) # 5가 나옴 왜냐하면 인덱스 위치임\n",
        "print(f\"Predicted class: {y_pred}\")\n",
        "print(y_pred)#합이 1(소프트맥스 거침), 확률 인덱스 5가 가장 높음\n",
        "print(logits)# =소프트맥스 안거쳐서 "
      ],
      "execution_count": null,
      "outputs": [
        {
          "output_type": "stream",
          "text": [
            "Predicted class: tensor([5])\n",
            "tensor([5])\n",
            "tensor([[0.0085, 0.0000, 0.0377, 0.0000, 0.0000, 0.0785, 0.0083, 0.0157, 0.0000,\n",
            "         0.0000]], grad_fn=<ReluBackward0>)\n"
          ],
          "name": "stdout"
        }
      ]
    },
    {
      "cell_type": "code",
      "metadata": {
        "colab": {
          "base_uri": "https://localhost:8080/"
        },
        "id": "SZafWV_2x1Fy",
        "outputId": "4a47c9d6-1446-49d3-d709-4fe3b5e5215f"
      },
      "source": [
        "input_image = torch.rand(3,28,28)\n",
        "print(input_image.size())"
      ],
      "execution_count": null,
      "outputs": [
        {
          "output_type": "stream",
          "text": [
            "torch.Size([3, 28, 28])\n"
          ],
          "name": "stdout"
        }
      ]
    },
    {
      "cell_type": "code",
      "metadata": {
        "colab": {
          "base_uri": "https://localhost:8080/"
        },
        "id": "PVtfGkiAx3sf",
        "outputId": "5c35cebd-9a1e-421e-d61f-484c49517773"
      },
      "source": [
        "flatten = nn.Flatten() #가로 세로 차원인걸 납작하게 만드는 거임. 위에 torch.size 차원 하나가 없어짐.\n",
        "flat_image = flatten(input_image)\n",
        "print(flat_image.size())"
      ],
      "execution_count": null,
      "outputs": [
        {
          "output_type": "stream",
          "text": [
            "torch.Size([3, 784])\n"
          ],
          "name": "stdout"
        }
      ]
    },
    {
      "cell_type": "code",
      "metadata": {
        "colab": {
          "base_uri": "https://localhost:8080/"
        },
        "id": "ofpJgqb8x4qw",
        "outputId": "da091ad9-313d-4f0a-ccbb-0b0c20274757"
      },
      "source": [
        "layer1 = nn.Linear(in_features=28*28, out_features=20) #linear함수 input은 28*28인거고 출력은 20이라는 의미\n",
        "hidden1 = layer1(flat_image)\n",
        "print(hidden1.size())"
      ],
      "execution_count": null,
      "outputs": [
        {
          "output_type": "stream",
          "text": [
            "torch.Size([3, 20])\n"
          ],
          "name": "stdout"
        }
      ]
    },
    {
      "cell_type": "code",
      "metadata": {
        "colab": {
          "base_uri": "https://localhost:8080/"
        },
        "id": "hnDbTyZRyTa8",
        "outputId": "257411f0-db65-45da-a3cf-d55cf3fae068"
      },
      "source": [
        "print(f\"Before ReLU: {hidden1}\\n\\n\")\n",
        "hidden1 = nn.ReLU()(hidden1)\n",
        "print(f\"After ReLU: {hidden1}\") #ReLu 통과하니 음수가 다 사라짐. "
      ],
      "execution_count": null,
      "outputs": [
        {
          "output_type": "stream",
          "text": [
            "Before ReLU: tensor([[-0.3879, -0.0240,  0.1556,  0.4399, -0.1004,  0.1211, -0.6378,  0.2039,\n",
            "         -0.0570, -0.0019, -0.2433, -0.1175,  0.7778,  0.0090,  0.3098, -0.0203,\n",
            "         -0.1514,  0.0407,  0.6663, -0.4235],\n",
            "        [-0.2811, -0.2628,  0.0299,  0.1144, -0.1560, -0.0874, -0.2853,  0.3454,\n",
            "          0.2419, -0.1653, -0.2607, -0.6672,  0.4166,  0.0070,  0.0565,  0.1906,\n",
            "         -0.3233, -0.2292,  0.6195, -0.2466],\n",
            "        [-0.2199,  0.0690, -0.1446,  0.9191, -0.0802,  0.2488, -0.2844,  0.2891,\n",
            "          0.1376, -0.1360, -0.2836, -0.2114,  0.3778,  0.4768,  0.4910, -0.0340,\n",
            "         -0.3694, -0.0073,  0.3877, -0.1632]], grad_fn=<AddmmBackward>)\n",
            "\n",
            "\n",
            "After ReLU: tensor([[0.0000, 0.0000, 0.1556, 0.4399, 0.0000, 0.1211, 0.0000, 0.2039, 0.0000,\n",
            "         0.0000, 0.0000, 0.0000, 0.7778, 0.0090, 0.3098, 0.0000, 0.0000, 0.0407,\n",
            "         0.6663, 0.0000],\n",
            "        [0.0000, 0.0000, 0.0299, 0.1144, 0.0000, 0.0000, 0.0000, 0.3454, 0.2419,\n",
            "         0.0000, 0.0000, 0.0000, 0.4166, 0.0070, 0.0565, 0.1906, 0.0000, 0.0000,\n",
            "         0.6195, 0.0000],\n",
            "        [0.0000, 0.0690, 0.0000, 0.9191, 0.0000, 0.2488, 0.0000, 0.2891, 0.1376,\n",
            "         0.0000, 0.0000, 0.0000, 0.3778, 0.4768, 0.4910, 0.0000, 0.0000, 0.0000,\n",
            "         0.3877, 0.0000]], grad_fn=<ReluBackward0>)\n"
          ],
          "name": "stdout"
        }
      ]
    },
    {
      "cell_type": "code",
      "metadata": {
        "colab": {
          "base_uri": "https://localhost:8080/"
        },
        "id": "ciJ4yAdyywFI",
        "outputId": "fb28b58e-d243-41a6-83b2-761b7481dd93"
      },
      "source": [
        "seq_modules = nn.Sequential(\n",
        "    flatten,\n",
        "    layer1, # 총 4개의 레이어가 실행됨 flatte-> layer1..\n",
        "    nn.ReLU(),\n",
        "    nn.Linear(20, 10)\n",
        ")\n",
        "input_image = torch.rand(3,28,28)\n",
        "logits = seq_modules(input_image)\n",
        "print(logits.shape) #데이터 3개, 각각 10개의 값을 가지고 있다."
      ],
      "execution_count": null,
      "outputs": [
        {
          "output_type": "stream",
          "text": [
            "torch.Size([3, 10])\n"
          ],
          "name": "stdout"
        }
      ]
    },
    {
      "cell_type": "code",
      "metadata": {
        "colab": {
          "base_uri": "https://localhost:8080/"
        },
        "id": "C_hdjbr9zArS",
        "outputId": "7e9ce8c7-f9e8-4bcc-ca78-cedecb62f003"
      },
      "source": [
        "softmax = nn.Softmax(dim=1)\n",
        "pred_probab = softmax(logits)\n",
        "print(logits)\n",
        "print(pred_probab)\n",
        "print(pred_probab.shape)"
      ],
      "execution_count": null,
      "outputs": [
        {
          "output_type": "stream",
          "text": [
            "tensor([[ 0.1985, -0.0796, -0.3076, -0.1423,  0.1808,  0.0322, -0.2737, -0.2152,\n",
            "          0.1923, -0.0989],\n",
            "        [ 0.0941, -0.0910, -0.3788, -0.1590,  0.2748,  0.0651, -0.2367, -0.2237,\n",
            "          0.2224,  0.0041],\n",
            "        [ 0.2297,  0.0825, -0.3219, -0.0544,  0.0638,  0.1046, -0.2203, -0.1299,\n",
            "          0.2527,  0.0393]], grad_fn=<AddmmBackward>)\n",
            "tensor([[0.1262, 0.0956, 0.0761, 0.0898, 0.1240, 0.1069, 0.0787, 0.0835, 0.1255,\n",
            "         0.0938],\n",
            "        [0.1124, 0.0934, 0.0700, 0.0873, 0.1347, 0.1092, 0.0807, 0.0818, 0.1278,\n",
            "         0.1027],\n",
            "        [0.1233, 0.1065, 0.0711, 0.0928, 0.1045, 0.1089, 0.0787, 0.0861, 0.1262,\n",
            "         0.1020]], grad_fn=<SoftmaxBackward>)\n",
            "torch.Size([3, 10])\n"
          ],
          "name": "stdout"
        }
      ]
    },
    {
      "cell_type": "code",
      "metadata": {
        "colab": {
          "base_uri": "https://localhost:8080/"
        },
        "id": "7dDDWoqEHnpn",
        "outputId": "132dda3f-a293-4c91-a4a2-12e5e12061b7"
      },
      "source": [
        "print(\"Model structure: \", model, \"\\n\\n\")\n",
        "\n",
        "for name, param in model.named_parameters():\n",
        "    print(f\"Layer: {name} | Size: {param.size()} | Values : {param[:2]} \\n\") #학습시켜나갈 파라미터 Relu는 파라미터 없음"
      ],
      "execution_count": 20,
      "outputs": [
        {
          "output_type": "stream",
          "text": [
            "Model structure:  NeuralNetwork(\n",
            "  (flatten): Flatten(start_dim=1, end_dim=-1)\n",
            "  (linear_relu_stack): Sequential(\n",
            "    (0): Linear(in_features=784, out_features=512, bias=True)\n",
            "    (1): ReLU()\n",
            "    (2): Linear(in_features=512, out_features=512, bias=True)\n",
            "    (3): ReLU()\n",
            "    (4): Linear(in_features=512, out_features=10, bias=True)\n",
            "    (5): ReLU()\n",
            "  )\n",
            ") \n",
            "\n",
            "\n",
            "Layer: linear_relu_stack.0.weight | Size: torch.Size([512, 784]) | Values : tensor([[-0.0047,  0.0270, -0.0304,  ...,  0.0190, -0.0282, -0.0307],\n",
            "        [-0.0290, -0.0048, -0.0251,  ...,  0.0287,  0.0268,  0.0221]],\n",
            "       grad_fn=<SliceBackward>) \n",
            "\n",
            "Layer: linear_relu_stack.0.bias | Size: torch.Size([512]) | Values : tensor([-0.0302, -0.0105], grad_fn=<SliceBackward>) \n",
            "\n",
            "Layer: linear_relu_stack.2.weight | Size: torch.Size([512, 512]) | Values : tensor([[-0.0371, -0.0160, -0.0410,  ..., -0.0008,  0.0409,  0.0407],\n",
            "        [ 0.0005,  0.0388, -0.0280,  ..., -0.0384, -0.0200, -0.0148]],\n",
            "       grad_fn=<SliceBackward>) \n",
            "\n",
            "Layer: linear_relu_stack.2.bias | Size: torch.Size([512]) | Values : tensor([0.0018, 0.0098], grad_fn=<SliceBackward>) \n",
            "\n",
            "Layer: linear_relu_stack.4.weight | Size: torch.Size([10, 512]) | Values : tensor([[-0.0136,  0.0024, -0.0421,  ..., -0.0010,  0.0264,  0.0295],\n",
            "        [-0.0112,  0.0019, -0.0322,  ..., -0.0390, -0.0325, -0.0112]],\n",
            "       grad_fn=<SliceBackward>) \n",
            "\n",
            "Layer: linear_relu_stack.4.bias | Size: torch.Size([10]) | Values : tensor([0.0291, 0.0306], grad_fn=<SliceBackward>) \n",
            "\n"
          ],
          "name": "stdout"
        }
      ]
    },
    {
      "cell_type": "code",
      "metadata": {
        "id": "DW0BiOzfHwhM"
      },
      "source": [
        ""
      ],
      "execution_count": null,
      "outputs": []
    }
  ]
}